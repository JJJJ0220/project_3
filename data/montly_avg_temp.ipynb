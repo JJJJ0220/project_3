{
 "cells": [
  {
   "cell_type": "code",
   "execution_count": 2,
   "metadata": {},
   "outputs": [
    {
     "name": "stdout",
     "output_type": "stream",
     "text": [
      "Monthly averages saved to: /Users/jeanjin/Desktop/DSBC/project_3/data/temp data cleaning/monthly_avg_temperatures_lastday.csv\n"
     ]
    },
    {
     "name": "stderr",
     "output_type": "stream",
     "text": [
      "/var/folders/nl/w78m68n92l72sb1hxt7jpyb00000gn/T/ipykernel_30580/819130297.py:12: FutureWarning: The default value of numeric_only in DataFrameGroupBy.mean is deprecated. In a future version, numeric_only will default to False. Either specify numeric_only or select only columns which should be valid for the function.\n",
      "  monthly_avg = df.groupby(['year', 'month']).mean().reset_index()\n"
     ]
    }
   ],
   "source": [
    "import pandas as pd\n",
    "\n",
    "# Load the data\n",
    "file_path = \"/Users/jeanjin/Desktop/DSBC/project_3/data/temp data cleaning/combined_temperatures.csv\"\n",
    "df = pd.read_csv(file_path, parse_dates=[\"time\"])\n",
    "\n",
    "# Extract year and month from the time column to use for grouping\n",
    "df['year'] = df['time'].dt.year\n",
    "df['month'] = df['time'].dt.month\n",
    "\n",
    "# Group by year and month and calculate the mean for each group\n",
    "monthly_avg = df.groupby(['year', 'month']).mean().reset_index()\n",
    "\n",
    "# Set the 'time' column to the last day of each month\n",
    "monthly_avg['time'] = pd.to_datetime(monthly_avg['year'].astype(str) + '-' + monthly_avg['month'].astype(str)) + pd.offsets.MonthEnd(0)\n",
    "monthly_avg = monthly_avg.drop(columns=['year', 'month'])\n",
    "\n",
    "# Reorder the columns to have 'time' at the beginning\n",
    "cols = ['time'] + [col for col in monthly_avg if col != 'time']\n",
    "monthly_avg = monthly_avg[cols]\n",
    "\n",
    "# Export the result to a new CSV file\n",
    "output_path = \"/Users/jeanjin/Desktop/DSBC/project_3/data/temp data cleaning/monthly_avg_temperatures_lastday.csv\"\n",
    "monthly_avg.to_csv(output_path, index=False)\n",
    "\n",
    "print(f\"Monthly averages saved to: {output_path}\")\n"
   ]
  },
  {
   "cell_type": "code",
   "execution_count": null,
   "metadata": {},
   "outputs": [],
   "source": []
  }
 ],
 "metadata": {
  "kernelspec": {
   "display_name": "dev",
   "language": "python",
   "name": "python3"
  },
  "language_info": {
   "codemirror_mode": {
    "name": "ipython",
    "version": 3
   },
   "file_extension": ".py",
   "mimetype": "text/x-python",
   "name": "python",
   "nbconvert_exporter": "python",
   "pygments_lexer": "ipython3",
   "version": "3.10.12"
  }
 },
 "nbformat": 4,
 "nbformat_minor": 2
}
