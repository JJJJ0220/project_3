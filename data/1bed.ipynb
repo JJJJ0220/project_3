{
 "cells": [
  {
   "cell_type": "code",
   "execution_count": 6,
   "metadata": {},
   "outputs": [],
   "source": [
    "import pandas as pd\n",
    "\n",
    "# Load the CSV file\n",
    "file_path = \"/Users/jeanjin/Desktop/DSBC/project_3/combined_housing_data.csv\"  # Replace with your CSV file path\n",
    "df = pd.read_csv(file_path)\n",
    "\n",
    "# Delete rows where the Source column is '2 Bedroom' or '3 Bedroom'\n",
    "df = df[~df['Source'].isin(['2 Bedroom', '3 Bedroom'])]\n",
    "\n",
    "# Rename 'RegionName' column to 'City'\n",
    "df = df.rename(columns={'RegionName': 'City'})\n",
    "\n",
    "# Delete the columns by their positions [1, 2, 3, 5, 6, 7, 8, 9]\n",
    "cols_to_delete = [df.columns[i-1] for i in [1, 2, 3, 5, 6, 7, 8, 9]]\n",
    "df = df.drop(columns=cols_to_delete)\n",
    "\n",
    "# Save the processed DataFrame to \"output.csv\"\n",
    "df.to_csv(\"1bed_data.csv\", index=False)"
   ]
  },
  {
   "cell_type": "code",
   "execution_count": 12,
   "metadata": {},
   "outputs": [
    {
     "name": "stdout",
     "output_type": "stream",
     "text": [
      "Processed and transposed CSV saved as output_transposed.csv\n"
     ]
    }
   ],
   "source": [
    "import pandas as pd\n",
    "\n",
    "# Load the CSV file\n",
    "file_path = \"/Users/jeanjin/Desktop/DSBC/project_3/data/monthly_avg_temperatures_lastday.csv\"  # Replace with your CSV file path\n",
    "df = pd.read_csv(file_path)\n",
    "\n",
    "# Keep only columns that contain 'mean' and exclude those with 'max' or 'min'\n",
    "cols_to_keep = [col for col in df.columns if 'mean' in col and 'max' not in col and 'min' not in col]\n",
    "cols_to_keep.insert(0, 'time')  # Adding the time column to the list of columns to keep\n",
    "df = df[cols_to_keep]\n",
    "\n",
    "# Transpose the DataFrame\n",
    "df_transposed = df.T\n",
    "\n",
    "df = df.rename(columns={'time': 'City'})\n",
    "\n",
    "\n",
    "# Save the processed DataFrame to \"output_transposed.csv\"\n",
    "df_transposed.to_csv(\"output_transposed.csv\", header=False)\n",
    "\n",
    "print(f\"Processed and transposed CSV saved as output_transposed.csv\")\n"
   ]
  },
  {
   "cell_type": "code",
   "execution_count": 21,
   "metadata": {},
   "outputs": [],
   "source": [
    "import pandas as pd\n",
    "\n",
    "# Read your CSV file\n",
    "df = pd.read_csv('/Users/jeanjin/Desktop/DSBC/project_3/output_transposed.csv')\n",
    "\n",
    "# Rename the first column to 'City'\n",
    "df.rename(columns={\"time\": \"City\"}, inplace=True)\n",
    "\n",
    "city_rename_dict = {\n",
    "    \"temperature_2m_mean_Atlanta\": \"Atlanta\",\n",
    "    \"temperature_2m_mean_Boston\": \"Boston\",\n",
    "    \"temperature_2m_mean_Chicago\": \"Chicago\",\n",
    "    \"temperature_2m_mean_Dallas\": \"Dallas\",\n",
    "    \"temperature_2m_mean_Denver\": \"Denver\",\n",
    "    \"temperature_2m_mean_Houston\": \"Houston\",\n",
    "    \"temperature_2m_mean_Los Angeles\": \"Los Angeles\",\n",
    "    \"temperature_2m_mean_Miami\": \"Miami\",\n",
    "    \"temperature_2m_mean_Minneapolis\": \"Minneapolis\",\n",
    "    \"temperature_2m_mean_New_York\": \"New York\",\n",
    "    \"temperature_2m_mean_Phoenix\": \"Phoenix\",\n",
    "    \"temperature_2m_mean_San Francisco\": \"San Francisco\",\n",
    "    \"temperature_2m_mean_Seattle\": \"Seattle\",\n",
    "    \"temperature_2m_mean_Las Vegas\": \"Las Vegas\"\n",
    "}\n",
    "\n",
    "df['City'] = df['City'].replace(city_rename_dict)\n",
    "\n",
    "# Save the modified dataframe\n",
    "df.to_csv('final_temp.csv', index=False)\n",
    "\n"
   ]
  },
  {
   "cell_type": "code",
   "execution_count": 19,
   "metadata": {},
   "outputs": [
    {
     "name": "stdout",
     "output_type": "stream",
     "text": [
      "Index(['City', '2018-10-31', '2018-11-30', '2018-12-31', '2019-01-31',\n",
      "       '2019-02-28', '2019-03-31', '2019-04-30', '2019-05-31', '2019-06-30',\n",
      "       '2019-07-31', '2019-08-31', '2019-09-30', '2019-10-31', '2019-11-30',\n",
      "       '2019-12-31', '2020-01-31', '2020-02-29', '2020-03-31', '2020-04-30',\n",
      "       '2020-05-31', '2020-06-30', '2020-07-31', '2020-08-31', '2020-09-30',\n",
      "       '2020-10-31', '2020-11-30', '2020-12-31', '2021-01-31', '2021-02-28',\n",
      "       '2021-03-31', '2021-04-30', '2021-05-31', '2021-06-30', '2021-07-31',\n",
      "       '2021-08-31', '2021-09-30', '2021-10-31', '2021-11-30', '2021-12-31',\n",
      "       '2022-01-31', '2022-02-28', '2022-03-31', '2022-04-30', '2022-05-31',\n",
      "       '2022-06-30', '2022-07-31', '2022-08-31', '2022-09-30', '2022-10-31',\n",
      "       '2022-11-30', '2022-12-31', '2023-01-31', '2023-02-28', '2023-03-31',\n",
      "       '2023-04-30', '2023-05-31', '2023-06-30', '2023-07-31', '2023-08-31',\n",
      "       '2023-09-30'],\n",
      "      dtype='object')\n"
     ]
    }
   ],
   "source": [
    "print(df.columns)\n",
    "\n"
   ]
  }
 ],
 "metadata": {
  "kernelspec": {
   "display_name": "dev",
   "language": "python",
   "name": "python3"
  },
  "language_info": {
   "codemirror_mode": {
    "name": "ipython",
    "version": 3
   },
   "file_extension": ".py",
   "mimetype": "text/x-python",
   "name": "python",
   "nbconvert_exporter": "python",
   "pygments_lexer": "ipython3",
   "version": "3.10.12"
  }
 },
 "nbformat": 4,
 "nbformat_minor": 2
}
